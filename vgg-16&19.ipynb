{
 "cells": [
  {
   "cell_type": "code",
   "execution_count": 1,
   "metadata": {
    "editable": false,
    "execution": {
     "iopub.execute_input": "2022-03-11T22:25:41.456357Z",
     "iopub.status.busy": "2022-03-11T22:25:41.456045Z",
     "iopub.status.idle": "2022-03-11T22:25:47.111180Z",
     "shell.execute_reply": "2022-03-11T22:25:47.110035Z",
     "shell.execute_reply.started": "2022-03-11T22:25:41.456278Z"
    }
   },
   "outputs": [],
   "source": [
    "import warnings\n",
    "warnings.filterwarnings(\"ignore\")\n",
    "\n",
    "import numpy as np\n",
    "import matplotlib.pyplot as plt\n",
    "import pandas as pd\n",
    "import seaborn as sn\n",
    "import random\n",
    "from tqdm import tqdm\n",
    "import os\n",
    "import cv2\n",
    "import pickle\n",
    "\n",
    "from sklearn.preprocessing import LabelEncoder\n",
    "from tensorflow.keras.models import load_model\n",
    "\n",
    "\n",
    "import tensorflow as tf\n",
    "from tensorflow.keras import layers, models\n",
    "from sklearn.model_selection import train_test_split, KFold, GridSearchCV\n",
    "from sklearn.metrics import accuracy_score, precision_score, recall_score, confusion_matrix, roc_auc_score\n",
    "from tensorflow.keras.preprocessing.image import ImageDataGenerator\n",
    "from tensorflow.keras.models import Sequential, Model\n",
    "from tensorflow.keras.layers import Dense, Dropout, Flatten, Activation, Conv2D, MaxPooling2D, BatchNormalization, Input\n",
    "from tensorflow.keras.optimizers import Adam, Adagrad, Adadelta, RMSprop\n",
    "from tensorflow.keras.utils import to_categorical\n",
    "\n",
    "\n",
    "from tensorflow.keras.applications import VGG16, VGG19\n",
    "from tensorflow.keras.applications.vgg16 import decode_predictions, preprocess_input\n",
    "from tensorflow.keras.preprocessing import image\n",
    "#import image"
   ]
  },
  {
   "cell_type": "code",
   "execution_count": 2,
   "metadata": {
    "execution": {
     "iopub.execute_input": "2022-03-11T22:25:47.113410Z",
     "iopub.status.busy": "2022-03-11T22:25:47.113139Z",
     "iopub.status.idle": "2022-03-11T22:25:47.120676Z",
     "shell.execute_reply": "2022-03-11T22:25:47.119883Z",
     "shell.execute_reply.started": "2022-03-11T22:25:47.113374Z"
    }
   },
   "outputs": [],
   "source": [
    "IMG_SIZE=224\n",
    "img_arr = []\n",
    "labels = []\n",
    "label_encoder = LabelEncoder()\n",
    "\n",
    "FLOWER_DAISY_DIR = \"../input/flowers-recognition/flowers/daisy/\"\n",
    "FLOWER_DANDELION_DIR = \"../input/flowers-recognition/flowers/dandelion/\"\n",
    "FLOWER_ROSE_DIR = \"../input/flowers-recognition/flowers/rose/\"\n",
    "FLOWER_SUNFLOWER_DIR = \"../input/flowers-recognition/flowers/sunflower/\"\n",
    "FLOWER_TULIP_DIR = \"../input/flowers-recognition/flowers/tulip/\""
   ]
  },
  {
   "cell_type": "code",
   "execution_count": 3,
   "metadata": {
    "execution": {
     "iopub.execute_input": "2022-03-11T22:25:47.122663Z",
     "iopub.status.busy": "2022-03-11T22:25:47.122383Z",
     "iopub.status.idle": "2022-03-11T22:25:47.138091Z",
     "shell.execute_reply": "2022-03-11T22:25:47.137212Z",
     "shell.execute_reply.started": "2022-03-11T22:25:47.122627Z"
    }
   },
   "outputs": [],
   "source": [
    "# Creating funtion to assign labels to each flower\n",
    "#image_cust = []\n",
    "def feature_extraction(path, flower_type):\n",
    "    \n",
    "    label = str(flower_type)                # flower_type is nothing but the class label of the flower\n",
    "    for img in tqdm(os.listdir(path)):      # os.listdir list all the files present in at the given location\n",
    "        img_path = path + str(img)          # combining folder path and image files name\n",
    "        img = cv2.imread(img_path, cv2.IMREAD_COLOR)       # Reading image file from the above location\n",
    "        img = cv2.resize(img, (IMG_SIZE, IMG_SIZE))        # Resizing image to dimensoion 224*224\n",
    "        #image_cust.append(img)\n",
    "        \n",
    "        #img = np.expand_dims(img, axis=0)\n",
    "        #img = preprocess_input(img)\n",
    "        img_arr.append(img)       # Appending image value into a variable for further processing\n",
    "        labels.append(label) \n",
    "        \n"
   ]
  },
  {
   "cell_type": "code",
   "execution_count": 4,
   "metadata": {
    "execution": {
     "iopub.execute_input": "2022-03-11T22:25:47.144462Z",
     "iopub.status.busy": "2022-03-11T22:25:47.143648Z",
     "iopub.status.idle": "2022-03-11T22:25:47.161909Z",
     "shell.execute_reply": "2022-03-11T22:25:47.160904Z",
     "shell.execute_reply.started": "2022-03-11T22:25:47.144416Z"
    }
   },
   "outputs": [],
   "source": [
    "def pre_process():\n",
    "    # Following code will check for the presence of store image array and corresponding label in current working directory.\n",
    "    # If both files are present in CWD then we'll directly load that file to avoide re-processing\n",
    "    global img_arr\n",
    "    global labels\n",
    "    if os.path.isfile(\"img_arr_224.npy\") and os.path.isfile(\"labels_224.npy\"):\n",
    "        print(\"Reading file....\")\n",
    "        img_arr = np.load(\"img_arr_224.npy\")\n",
    "        labels = np.load(\"labels_224.npy\")\n",
    "        print(\"Done...\")\n",
    "\n",
    "    else:\n",
    "\n",
    "        # Creating list for storing image value and labels\n",
    "        \n",
    "        print(\"Pre-processing....\")\n",
    "        print(\"Flower -> Daisy....\")\n",
    "        feature_extraction(FLOWER_DAISY_DIR, \"daisy\")  # calling function to assign label to all images present at given dir location\n",
    "\n",
    "        print(\"Flower -> Dandelion....\")\n",
    "        feature_extraction(FLOWER_DANDELION_DIR, \"dandelion\")\n",
    "\n",
    "        print(\"Flower -> Rose....\")\n",
    "        feature_extraction(FLOWER_ROSE_DIR, \"rose\")\n",
    "\n",
    "        print(\"Flower -> Sunflower....\")\n",
    "        feature_extraction(FLOWER_SUNFLOWER_DIR, \"sunflower\")\n",
    "\n",
    "        print(\"Flower -> Tuplip....\")\n",
    "        feature_extraction(FLOWER_TULIP_DIR, \"tulip\")\n",
    "\n",
    "                                                   # Saving image and label array in cwd\n",
    "        img_arr = np.array(img_arr)\n",
    "        labels = np.array(labels)\n",
    "\n",
    "        \n",
    "        labels = label_encoder.fit_transform(labels) # Encoding all the labels into 0s and 1s\n",
    "        labels = to_categorical(labels,5)                 # As we are dealing with multiclass classification hear I'm performing onHotEncoding\n",
    "        img_arr = np.array(img_arr)                    \n",
    "        img_arr = img_arr/255                                # Normalizing image array\n",
    "\n",
    "        pickle.dump(label_encoder, open(\"label_encoder.pkl\", \"wb\"))\n",
    "        np.save(\"img_arr_224.npy\", img_arr)\n",
    "        np.save(\"labels_224.npy\", labels)\n",
    "\n",
    "        print(\"Done...\")\n"
   ]
  },
  {
   "cell_type": "code",
   "execution_count": 7,
   "metadata": {
    "execution": {
     "iopub.execute_input": "2022-03-11T22:25:47.203076Z",
     "iopub.status.busy": "2022-03-11T22:25:47.202823Z",
     "iopub.status.idle": "2022-03-11T22:25:47.215056Z",
     "shell.execute_reply": "2022-03-11T22:25:47.214245Z",
     "shell.execute_reply.started": "2022-03-11T22:25:47.203043Z"
    }
   },
   "outputs": [],
   "source": [
    "def fit_model(model):\n",
    "    # Compiling the model\n",
    "    \n",
    "    model.compile(\n",
    "        optimizer='adam',\n",
    "        loss='categorical_crossentropy',\n",
    "        metrics=['accuracy'],\n",
    "    )\n",
    "    \n",
    "    \n",
    "    batch_size = 32\n",
    "    epochs = 50\n",
    "\n",
    "\n",
    "    # ReduceLROnPlateau -> Reduce learning rate when a metric has stopped improving.\n",
    "    # monitor: quantity to be monitored.\n",
    "    # factor: factor by which the learning rate will be reduced. new_lr = lr * factor.\n",
    "    # patience: number of epochs with no improvement after which learning rate will be reduced.\n",
    "    # verbose: int. 0: quiet, 1: update messages.\n",
    "    # min_lr: lower bound on the learning rate.\n",
    "\n",
    "    from tensorflow.keras.callbacks import ReduceLROnPlateau, EarlyStopping, ModelCheckpoint\n",
    "\n",
    "    earlyStopping = EarlyStopping(monitor='val_loss', patience=5, verbose=0, mode='min', restore_best_weights=True)\n",
    "    mcp_save = ModelCheckpoint('vgg16_model.h5', save_best_only=True, monitor='val_loss', mode='min')\n",
    "\n",
    "    red_lr = ReduceLROnPlateau(monitor=\"val_accuracy\", patience=3, verbose=1, factor = 0.1, min_lr=0.001)\n",
    "    \n",
    "    \n",
    "    \n",
    "    # Fitting on training set and using validation set\n",
    "    history = model.fit(X_train, y_train, batch_size = 128,\n",
    "                        epochs = 50, \n",
    "                        validation_split = 0.2,\n",
    "                        callbacks=[earlyStopping, mcp_save, red_lr],\n",
    "                        verbose= 1)\n",
    "    \n",
    "    print(\"\\n\\n Model Evalation: \\n\")\n",
    "    print(model.evaluate(X_test, y_test))\n",
    "    return history"
   ]
  },
  {
   "cell_type": "code",
   "execution_count": 8,
   "metadata": {
    "editable": false,
    "execution": {
     "iopub.execute_input": "2022-03-11T22:25:47.217417Z",
     "iopub.status.busy": "2022-03-11T22:25:47.216447Z",
     "iopub.status.idle": "2022-03-11T22:25:47.226337Z",
     "shell.execute_reply": "2022-03-11T22:25:47.225670Z",
     "shell.execute_reply.started": "2022-03-11T22:25:47.217378Z"
    }
   },
   "outputs": [],
   "source": [
    "def get_predictions(model, img_arr):\n",
    "    \n",
    "    pred = [decode_predictions(model.predict(img_arr[i]), top = 3)[0] for i in tqdm(range(0,len(img_arr)))]\n",
    "    \n",
    "    return pred\n"
   ]
  },
  {
   "cell_type": "code",
   "execution_count": 9,
   "metadata": {
    "editable": false,
    "execution": {
     "iopub.execute_input": "2022-03-11T22:25:47.230399Z",
     "iopub.status.busy": "2022-03-11T22:25:47.229221Z",
     "iopub.status.idle": "2022-03-11T22:25:47.243482Z",
     "shell.execute_reply": "2022-03-11T22:25:47.241983Z",
     "shell.execute_reply.started": "2022-03-11T22:25:47.230358Z"
    }
   },
   "outputs": [],
   "source": [
    "def visualise_predictions(pred, img_arr):\n",
    "    f, ax = plt.subplots(2, 4)\n",
    "    f.set_size_inches(80, 40)\n",
    "    \n",
    "    for i in range(4):\n",
    "        num = random.randint(0, len(image))\n",
    "        ax[0,i].imshow(np.squeeze(img_arr[num]))\n",
    "        b = sn.barplot(y=[c[1] for c in pred[num]], x=[c[2] for c in pred[num]], ax=ax[1, i])\n",
    "        b.tick_params(labelsize=55)\n",
    "        f.tight_layout()\n",
    "            \n",
    "    plt.show()"
   ]
  },
  {
   "cell_type": "code",
   "execution_count": 10,
   "metadata": {
    "execution": {
     "iopub.execute_input": "2022-03-11T22:25:47.246019Z",
     "iopub.status.busy": "2022-03-11T22:25:47.245563Z",
     "iopub.status.idle": "2022-03-11T22:26:07.632075Z",
     "shell.execute_reply": "2022-03-11T22:26:07.631342Z",
     "shell.execute_reply.started": "2022-03-11T22:25:47.245981Z"
    }
   },
   "outputs": [
    {
     "name": "stdout",
     "output_type": "stream",
     "text": [
      "Loading training and testing data from storage...\n",
      "Done...\n"
     ]
    }
   ],
   "source": [
    "# Saving all preprocessed and splitted file on local disk so we don't have to perform again.\n",
    "# Loading processed training and testing data from storage\n",
    "\n",
    "if os.path.isfile(\"X_train.npy\") and os.path.isfile(\"X_train.npy\") and os.path.isfile(\"y_train.npy\") and os.path.isfile(\"y_test.npy\"):\n",
    "    print(\"Loading training and testing data from storage...\")\n",
    "    label_encoder = pickle.load(open(\"label_encoder.pkl\", \"rb\"))\n",
    "    X_train = np.load(\"X_train.npy\")\n",
    "    X_test = np.load(\"X_test.npy\")\n",
    "    y_train = np.load(\"y_train.npy\")\n",
    "    y_test = np.load(\"y_test.npy\")\n",
    "    print(\"Done...\")\n",
    "else:\n",
    "    pre_process()       # If preprocessed files are not present on disk then here I'm calling pre_process function to process image data\n",
    "    print(\"Spliting data into training and test set.....\")\n",
    "    X_train, X_test, y_train, y_test = train_test_split(img_arr, labels, test_size=0.20, random_state=42)\n",
    "    \n",
    "    print(\"Saving train and test set\")\n",
    "    np.save(\"X_train.npy\", X_train)\n",
    "    np.save(\"X_test.npy\", X_test)\n",
    "    np.save(\"y_train.npy\", y_train)\n",
    "    np.save(\"y_test.npy\", y_test)\n",
    "    print(\"Done...\")"
   ]
  },
  {
   "cell_type": "markdown",
   "metadata": {
    "editable": false
   },
   "source": [
    "# Implementing VGG16"
   ]
  },
  {
   "cell_type": "code",
   "execution_count": null,
   "metadata": {
    "editable": false,
    "execution": {
     "iopub.execute_input": "2022-03-11T15:24:21.084406Z",
     "iopub.status.busy": "2022-03-11T15:24:21.083586Z",
     "iopub.status.idle": "2022-03-11T15:24:21.231264Z",
     "shell.execute_reply": "2022-03-11T15:24:21.230503Z",
     "shell.execute_reply.started": "2022-03-11T15:24:21.084363Z"
    }
   },
   "outputs": [],
   "source": [
    "_input = Input((224, 224, 3))\n",
    "conv1 = Conv2D(filters = 64, kernel_size = (3,3), padding = \"same\", activation = \"relu\")(_input)\n",
    "conv2 = Conv2D(filters = 64, kernel_size = (3,3), padding = \"same\", activation = \"relu\")(conv1)\n",
    "pool1 = MaxPooling2D((2,2))(conv2)\n",
    "\n",
    "conv3 = Conv2D(filters = 128, kernel_size = (3,3), padding = \"same\", activation = \"relu\")(pool1)\n",
    "conv4 = Conv2D(filters = 128, kernel_size = (3,3), padding = \"same\", activation = \"relu\")(conv3)\n",
    "pool2 = MaxPooling2D((2,2))(conv4)\n",
    "\n",
    "conv5 = Conv2D(filters = 256, kernel_size = (3,3), padding = \"same\", activation = \"relu\")(pool2)\n",
    "conv6 = Conv2D(filters = 256, kernel_size = (3,3), padding = \"same\", activation = \"relu\")(conv5)\n",
    "conv7 = Conv2D(filters = 256, kernel_size = (3,3), padding = \"same\", activation = \"relu\")(conv6)\n",
    "pool3 = MaxPooling2D((2,2))(conv7)\n",
    "\n",
    "conv8 = Conv2D(filters = 512, kernel_size = (3,3), padding = \"same\", activation = \"relu\")(pool3)\n",
    "conv9 = Conv2D(filters = 512, kernel_size = (3,3), padding = \"same\", activation = \"relu\")(conv8)\n",
    "conv10 = Conv2D(filters = 512, kernel_size = (3,3), padding = \"same\", activation = \"relu\")(conv9)\n",
    "pool4 = MaxPooling2D((2,2))(conv10)\n",
    "\n",
    "conv11 = Conv2D(filters = 512, kernel_size = (3,3), padding = \"same\", activation = \"relu\")(pool4)\n",
    "conv12 = Conv2D(filters = 512, kernel_size = (3,3), padding = \"same\", activation = \"relu\")(conv11)\n",
    "conv13 = Conv2D(filters = 512, kernel_size = (3,3), padding = \"same\", activation = \"relu\")(conv12)\n",
    "pool5 = MaxPooling2D((2,2))(conv13)\n",
    "\n",
    "flat = Flatten()(pool5)\n",
    "dense1 = Dense(4096, activation = \"relu\")(flat)\n",
    "dense2 = Dense(4096, activation = \"relu\")(dense1)\n",
    "dense3 = Dense(1000, activation = \"relu\")(dense2)\n",
    "output = Dense(5, activation = \"softmax\")(dense3)\n",
    "\n",
    "vgg16 = Model(inputs = _input, outputs = output)"
   ]
  },
  {
   "cell_type": "code",
   "execution_count": null,
   "metadata": {
    "editable": false,
    "execution": {
     "iopub.execute_input": "2022-03-11T15:24:21.534163Z",
     "iopub.status.busy": "2022-03-11T15:24:21.533928Z",
     "iopub.status.idle": "2022-03-11T15:24:21.550467Z",
     "shell.execute_reply": "2022-03-11T15:24:21.549775Z",
     "shell.execute_reply.started": "2022-03-11T15:24:21.534134Z"
    }
   },
   "outputs": [],
   "source": [
    "vgg16.summary()"
   ]
  },
  {
   "cell_type": "markdown",
   "metadata": {
    "editable": false
   },
   "source": [
    "# Pretrained VGG16"
   ]
  },
  {
   "cell_type": "code",
   "execution_count": 5,
   "metadata": {
    "execution": {
     "iopub.execute_input": "2022-03-11T22:25:47.166663Z",
     "iopub.status.busy": "2022-03-11T22:25:47.166177Z",
     "iopub.status.idle": "2022-03-11T22:25:47.180104Z",
     "shell.execute_reply": "2022-03-11T22:25:47.178958Z",
     "shell.execute_reply.started": "2022-03-11T22:25:47.166576Z"
    }
   },
   "outputs": [],
   "source": [
    "def load_VGG16():\n",
    "\n",
    "    base_model = VGG16(\n",
    "                weights=\"imagenet\",\n",
    "                include_top=False,\n",
    "                input_shape=(224,224,3),\n",
    "                pooling=None,\n",
    "                classes=5,\n",
    "                classifier_activation=\"softmax\",\n",
    "        )\n",
    "\n",
    "    print(\"Pre-trained VGG16 model without top layers....\\n\")\n",
    "    \n",
    "    for layer in base_model.layers[:16]: # Setting trainable parameter to False of 16 layers of VGG16 pretrained model\n",
    "        layer.trainable = False\n",
    "    \n",
    "    print(base_model.summary())\n",
    "    print(\"\\n\\n*********************************************************\\n\")\n",
    "    flatten_layer = layers.Flatten()\n",
    "    dense_layer_1 = layers.Dense(50, activation='relu')\n",
    "    dense_layer_2 = layers.Dense(20, activation='relu')\n",
    "    prediction_layer = layers.Dense(5, activation='softmax')\n",
    "    \n",
    "    vgg16_model = models.Sequential([\n",
    "            \n",
    "            base_model,\n",
    "            flatten_layer,\n",
    "            dense_layer_1,\n",
    "            dense_layer_2,\n",
    "            prediction_layer])\n",
    "    \n",
    "    return vgg16_model"
   ]
  },
  {
   "cell_type": "code",
   "execution_count": null,
   "metadata": {},
   "outputs": [],
   "source": []
  },
  {
   "cell_type": "code",
   "execution_count": 24,
   "metadata": {
    "execution": {
     "iopub.execute_input": "2022-03-11T20:43:39.966580Z",
     "iopub.status.busy": "2022-03-11T20:43:39.966049Z",
     "iopub.status.idle": "2022-03-11T20:43:40.570806Z",
     "shell.execute_reply": "2022-03-11T20:43:40.569762Z",
     "shell.execute_reply.started": "2022-03-11T20:43:39.966544Z"
    }
   },
   "outputs": [
    {
     "name": "stdout",
     "output_type": "stream",
     "text": [
      "Pre-trained VGG16 model without top layers....\n",
      "\n",
      "Model: \"vgg16\"\n",
      "_________________________________________________________________\n",
      "Layer (type)                 Output Shape              Param #   \n",
      "=================================================================\n",
      "input_5 (InputLayer)         [(None, 224, 224, 3)]     0         \n",
      "_________________________________________________________________\n",
      "block1_conv1 (Conv2D)        (None, 224, 224, 64)      1792      \n",
      "_________________________________________________________________\n",
      "block1_conv2 (Conv2D)        (None, 224, 224, 64)      36928     \n",
      "_________________________________________________________________\n",
      "block1_pool (MaxPooling2D)   (None, 112, 112, 64)      0         \n",
      "_________________________________________________________________\n",
      "block2_conv1 (Conv2D)        (None, 112, 112, 128)     73856     \n",
      "_________________________________________________________________\n",
      "block2_conv2 (Conv2D)        (None, 112, 112, 128)     147584    \n",
      "_________________________________________________________________\n",
      "block2_pool (MaxPooling2D)   (None, 56, 56, 128)       0         \n",
      "_________________________________________________________________\n",
      "block3_conv1 (Conv2D)        (None, 56, 56, 256)       295168    \n",
      "_________________________________________________________________\n",
      "block3_conv2 (Conv2D)        (None, 56, 56, 256)       590080    \n",
      "_________________________________________________________________\n",
      "block3_conv3 (Conv2D)        (None, 56, 56, 256)       590080    \n",
      "_________________________________________________________________\n",
      "block3_pool (MaxPooling2D)   (None, 28, 28, 256)       0         \n",
      "_________________________________________________________________\n",
      "block4_conv1 (Conv2D)        (None, 28, 28, 512)       1180160   \n",
      "_________________________________________________________________\n",
      "block4_conv2 (Conv2D)        (None, 28, 28, 512)       2359808   \n",
      "_________________________________________________________________\n",
      "block4_conv3 (Conv2D)        (None, 28, 28, 512)       2359808   \n",
      "_________________________________________________________________\n",
      "block4_pool (MaxPooling2D)   (None, 14, 14, 512)       0         \n",
      "_________________________________________________________________\n",
      "block5_conv1 (Conv2D)        (None, 14, 14, 512)       2359808   \n",
      "_________________________________________________________________\n",
      "block5_conv2 (Conv2D)        (None, 14, 14, 512)       2359808   \n",
      "_________________________________________________________________\n",
      "block5_conv3 (Conv2D)        (None, 14, 14, 512)       2359808   \n",
      "_________________________________________________________________\n",
      "block5_pool (MaxPooling2D)   (None, 7, 7, 512)         0         \n",
      "=================================================================\n",
      "Total params: 14,714,688\n",
      "Trainable params: 4,719,616\n",
      "Non-trainable params: 9,995,072\n",
      "_________________________________________________________________\n",
      "None\n",
      "\n",
      "\n",
      "*********************************************************\n",
      "\n",
      "Model: \"sequential_4\"\n",
      "_________________________________________________________________\n",
      "Layer (type)                 Output Shape              Param #   \n",
      "=================================================================\n",
      "vgg16 (Functional)           (None, 7, 7, 512)         14714688  \n",
      "_________________________________________________________________\n",
      "flatten_4 (Flatten)          (None, 25088)             0         \n",
      "_________________________________________________________________\n",
      "dense_12 (Dense)             (None, 50)                1254450   \n",
      "_________________________________________________________________\n",
      "dense_13 (Dense)             (None, 20)                1020      \n",
      "_________________________________________________________________\n",
      "dense_14 (Dense)             (None, 5)                 105       \n",
      "=================================================================\n",
      "Total params: 15,970,263\n",
      "Trainable params: 5,975,191\n",
      "Non-trainable params: 9,995,072\n",
      "_________________________________________________________________\n"
     ]
    }
   ],
   "source": [
    "vgg16_model = load_VGG16()\n",
    "vgg16_model.summary()"
   ]
  },
  {
   "cell_type": "code",
   "execution_count": 25,
   "metadata": {
    "editable": false,
    "execution": {
     "iopub.execute_input": "2022-03-11T20:43:40.574661Z",
     "iopub.status.busy": "2022-03-11T20:43:40.574411Z",
     "iopub.status.idle": "2022-03-11T20:45:06.334369Z",
     "shell.execute_reply": "2022-03-11T20:45:06.333261Z",
     "shell.execute_reply.started": "2022-03-11T20:43:40.574629Z"
    }
   },
   "outputs": [
    {
     "name": "stdout",
     "output_type": "stream",
     "text": [
      "Epoch 1/50\n",
      "22/22 [==============================] - 9s 367ms/step - loss: 1.5076 - accuracy: 0.3892 - val_loss: 1.0590 - val_accuracy: 0.5572\n",
      "Epoch 2/50\n",
      "22/22 [==============================] - 7s 306ms/step - loss: 0.7380 - accuracy: 0.7165 - val_loss: 0.7718 - val_accuracy: 0.7106\n",
      "Epoch 3/50\n",
      "22/22 [==============================] - 7s 308ms/step - loss: 0.5540 - accuracy: 0.7951 - val_loss: 0.5941 - val_accuracy: 0.7959\n",
      "Epoch 4/50\n",
      "22/22 [==============================] - 7s 314ms/step - loss: 0.4127 - accuracy: 0.8487 - val_loss: 0.5920 - val_accuracy: 0.8075\n",
      "Epoch 5/50\n",
      "22/22 [==============================] - 7s 310ms/step - loss: 0.3231 - accuracy: 0.8780 - val_loss: 0.5510 - val_accuracy: 0.7974\n",
      "Epoch 6/50\n",
      "22/22 [==============================] - 7s 309ms/step - loss: 0.2659 - accuracy: 0.9091 - val_loss: 0.4290 - val_accuracy: 0.8394\n",
      "Epoch 7/50\n",
      "22/22 [==============================] - 7s 313ms/step - loss: 0.1775 - accuracy: 0.9377 - val_loss: 0.5767 - val_accuracy: 0.8205\n",
      "Epoch 8/50\n",
      "22/22 [==============================] - 7s 310ms/step - loss: 0.1478 - accuracy: 0.9475 - val_loss: 0.4963 - val_accuracy: 0.8495\n",
      "Epoch 9/50\n",
      "22/22 [==============================] - 7s 313ms/step - loss: 0.1135 - accuracy: 0.9634 - val_loss: 0.6207 - val_accuracy: 0.8365\n",
      "Epoch 10/50\n",
      "22/22 [==============================] - 7s 308ms/step - loss: 0.1140 - accuracy: 0.9591 - val_loss: 0.4832 - val_accuracy: 0.8712\n",
      "Epoch 11/50\n",
      "22/22 [==============================] - 7s 310ms/step - loss: 0.1030 - accuracy: 0.9602 - val_loss: 0.7119 - val_accuracy: 0.8379\n",
      "\n",
      "\n",
      " Model Evalation: \n",
      "\n",
      "27/27 [==============================] - 2s 64ms/step - loss: 0.4575 - accuracy: 0.8576\n",
      "[0.4575246274471283, 0.8576388955116272]\n"
     ]
    }
   ],
   "source": [
    "history = fit_model(vgg16_model)"
   ]
  },
  {
   "cell_type": "markdown",
   "metadata": {},
   "source": [
    "## We got accuracy of 85.76% using VGG16 pretrained model"
   ]
  },
  {
   "cell_type": "code",
   "execution_count": 26,
   "metadata": {
    "execution": {
     "iopub.execute_input": "2022-03-11T20:45:54.628831Z",
     "iopub.status.busy": "2022-03-11T20:45:54.628532Z",
     "iopub.status.idle": "2022-03-11T20:45:54.637098Z",
     "shell.execute_reply": "2022-03-11T20:45:54.635549Z",
     "shell.execute_reply.started": "2022-03-11T20:45:54.628798Z"
    }
   },
   "outputs": [],
   "source": [
    "def plot_loss_acc(history):\n",
    "    plt.plot(history.history['loss'])\n",
    "    plt.plot(history.history['val_loss'])\n",
    "    plt.title('Model Loss')\n",
    "    plt.ylabel('Loss')\n",
    "    plt.xlabel('Epochs')\n",
    "    plt.legend(['train', 'test'])\n",
    "    plt.show()\n",
    "    \n",
    "    plt.plot(history.history['accuracy'])\n",
    "    plt.plot(history.history['val_accuracy'])\n",
    "    plt.title('Model Accuracy')\n",
    "    plt.ylabel('Accuracy')\n",
    "    plt.xlabel('Epochs')\n",
    "    plt.legend(['train', 'test'])\n",
    "    plt.show()"
   ]
  },
  {
   "cell_type": "code",
   "execution_count": null,
   "metadata": {},
   "outputs": [],
   "source": []
  },
  {
   "cell_type": "code",
   "execution_count": 27,
   "metadata": {
    "execution": {
     "iopub.execute_input": "2022-03-11T20:45:54.968916Z",
     "iopub.status.busy": "2022-03-11T20:45:54.968673Z",
     "iopub.status.idle": "2022-03-11T20:45:55.428936Z",
     "shell.execute_reply": "2022-03-11T20:45:55.427879Z",
     "shell.execute_reply.started": "2022-03-11T20:45:54.968887Z"
    },
    "scrolled": false
   },
   "outputs": [
    {
     "data": {
      "image/png": "[encoded data removed]",
      "text/plain": [
       "<Figure size 432x288 with 1 Axes>"
      ]
     },
     "metadata": {
      "needs_background": "light"
     },
     "output_type": "display_data"
    },
    {
     "data": {
      "image/png": "[encoded data removed]",
      "text/plain": [
       "<Figure size 432x288 with 1 Axes>"
      ]
     },
     "metadata": {
      "needs_background": "light"
     },
     "output_type": "display_data"
    }
   ],
   "source": [
    "plot_loss_acc(history)"
   ]
  },
  {
   "cell_type": "code",
   "execution_count": null,
   "metadata": {},
   "outputs": [],
   "source": []
  },
  {
   "cell_type": "code",
   "execution_count": null,
   "metadata": {},
   "outputs": [],
   "source": []
  },
  {
   "cell_type": "markdown",
   "metadata": {},
   "source": [
    "# VGG19"
   ]
  },
  {
   "cell_type": "code",
   "execution_count": 6,
   "metadata": {
    "execution": {
     "iopub.execute_input": "2022-03-11T22:25:47.185091Z",
     "iopub.status.busy": "2022-03-11T22:25:47.184664Z",
     "iopub.status.idle": "2022-03-11T22:25:47.198638Z",
     "shell.execute_reply": "2022-03-11T22:25:47.197667Z",
     "shell.execute_reply.started": "2022-03-11T22:25:47.184902Z"
    }
   },
   "outputs": [],
   "source": [
    "def load_VGG19():\n",
    "\n",
    "    base_model = VGG19(\n",
    "                weights=\"imagenet\",\n",
    "                include_top=False,\n",
    "                input_shape=(224,224,3),\n",
    "                pooling=None,\n",
    "                classes=5,\n",
    "                classifier_activation=\"softmax\",\n",
    "        )\n",
    "\n",
    "    print(\"Pre-trained VGG19 model without top layers....\\n\")\n",
    "    \n",
    "    for layer in base_model.layers[:19]:\n",
    "        layer.trainable = False\n",
    "    \n",
    "    print(base_model.summary())\n",
    "    print(\"\\n\\n*********************************************************\\n\")\n",
    "    flatten_layer = layers.Flatten()\n",
    "    dense_layer_1 = layers.Dense(50, activation='relu')\n",
    "    dense_layer_2 = layers.Dense(20, activation='relu')\n",
    "    prediction_layer = layers.Dense(5, activation='softmax')\n",
    "    \n",
    "    vgg19_model = models.Sequential([\n",
    "            \n",
    "            base_model,\n",
    "            flatten_layer,\n",
    "            dense_layer_1,\n",
    "            dense_layer_2,\n",
    "            prediction_layer])\n",
    "    \n",
    "    \n",
    "    return vgg19_model"
   ]
  },
  {
   "cell_type": "code",
   "execution_count": 28,
   "metadata": {
    "execution": {
     "iopub.execute_input": "2022-03-11T20:46:52.520068Z",
     "iopub.status.busy": "2022-03-11T20:46:52.519060Z",
     "iopub.status.idle": "2022-03-11T20:46:53.263181Z",
     "shell.execute_reply": "2022-03-11T20:46:53.262113Z",
     "shell.execute_reply.started": "2022-03-11T20:46:52.520003Z"
    }
   },
   "outputs": [
    {
     "name": "stdout",
     "output_type": "stream",
     "text": [
      "Pre-trained VGG19 model without top layers....\n",
      "\n",
      "Model: \"vgg19\"\n",
      "_________________________________________________________________\n",
      "Layer (type)                 Output Shape              Param #   \n",
      "=================================================================\n",
      "input_6 (InputLayer)         [(None, 224, 224, 3)]     0         \n",
      "_________________________________________________________________\n",
      "block1_conv1 (Conv2D)        (None, 224, 224, 64)      1792      \n",
      "_________________________________________________________________\n",
      "block1_conv2 (Conv2D)        (None, 224, 224, 64)      36928     \n",
      "_________________________________________________________________\n",
      "block1_pool (MaxPooling2D)   (None, 112, 112, 64)      0         \n",
      "_________________________________________________________________\n",
      "block2_conv1 (Conv2D)        (None, 112, 112, 128)     73856     \n",
      "_________________________________________________________________\n",
      "block2_conv2 (Conv2D)        (None, 112, 112, 128)     147584    \n",
      "_________________________________________________________________\n",
      "block2_pool (MaxPooling2D)   (None, 56, 56, 128)       0         \n",
      "_________________________________________________________________\n",
      "block3_conv1 (Conv2D)        (None, 56, 56, 256)       295168    \n",
      "_________________________________________________________________\n",
      "block3_conv2 (Conv2D)        (None, 56, 56, 256)       590080    \n",
      "_________________________________________________________________\n",
      "block3_conv3 (Conv2D)        (None, 56, 56, 256)       590080    \n",
      "_________________________________________________________________\n",
      "block3_conv4 (Conv2D)        (None, 56, 56, 256)       590080    \n",
      "_________________________________________________________________\n",
      "block3_pool (MaxPooling2D)   (None, 28, 28, 256)       0         \n",
      "_________________________________________________________________\n",
      "block4_conv1 (Conv2D)        (None, 28, 28, 512)       1180160   \n",
      "_________________________________________________________________\n",
      "block4_conv2 (Conv2D)        (None, 28, 28, 512)       2359808   \n",
      "_________________________________________________________________\n",
      "block4_conv3 (Conv2D)        (None, 28, 28, 512)       2359808   \n",
      "_________________________________________________________________\n",
      "block4_conv4 (Conv2D)        (None, 28, 28, 512)       2359808   \n",
      "_________________________________________________________________\n",
      "block4_pool (MaxPooling2D)   (None, 14, 14, 512)       0         \n",
      "_________________________________________________________________\n",
      "block5_conv1 (Conv2D)        (None, 14, 14, 512)       2359808   \n",
      "_________________________________________________________________\n",
      "block5_conv2 (Conv2D)        (None, 14, 14, 512)       2359808   \n",
      "_________________________________________________________________\n",
      "block5_conv3 (Conv2D)        (None, 14, 14, 512)       2359808   \n",
      "_________________________________________________________________\n",
      "block5_conv4 (Conv2D)        (None, 14, 14, 512)       2359808   \n",
      "_________________________________________________________________\n",
      "block5_pool (MaxPooling2D)   (None, 7, 7, 512)         0         \n",
      "=================================================================\n",
      "Total params: 20,024,384\n",
      "Trainable params: 4,719,616\n",
      "Non-trainable params: 15,304,768\n",
      "_________________________________________________________________\n",
      "None\n",
      "\n",
      "\n",
      "*********************************************************\n",
      "\n",
      "Model: \"sequential_5\"\n",
      "_________________________________________________________________\n",
      "Layer (type)                 Output Shape              Param #   \n",
      "=================================================================\n",
      "vgg19 (Functional)           (None, 7, 7, 512)         20024384  \n",
      "_________________________________________________________________\n",
      "flatten_5 (Flatten)          (None, 25088)             0         \n",
      "_________________________________________________________________\n",
      "dense_15 (Dense)             (None, 50)                1254450   \n",
      "_________________________________________________________________\n",
      "dense_16 (Dense)             (None, 20)                1020      \n",
      "_________________________________________________________________\n",
      "dense_17 (Dense)             (None, 5)                 105       \n",
      "=================================================================\n",
      "Total params: 21,279,959\n",
      "Trainable params: 5,975,191\n",
      "Non-trainable params: 15,304,768\n",
      "_________________________________________________________________\n"
     ]
    }
   ],
   "source": [
    "vgg19_model = load_VGG19()\n",
    "vgg19_model.summary()"
   ]
  },
  {
   "cell_type": "code",
   "execution_count": 29,
   "metadata": {
    "execution": {
     "iopub.execute_input": "2022-03-11T20:46:53.271472Z",
     "iopub.status.busy": "2022-03-11T20:46:53.268505Z",
     "iopub.status.idle": "2022-03-11T20:49:23.269786Z",
     "shell.execute_reply": "2022-03-11T20:49:23.268263Z",
     "shell.execute_reply.started": "2022-03-11T20:46:53.271404Z"
    }
   },
   "outputs": [
    {
     "name": "stdout",
     "output_type": "stream",
     "text": [
      "Epoch 1/50\n",
      "22/22 [==============================] - 10s 413ms/step - loss: 1.5667 - accuracy: 0.2951 - val_loss: 1.3219 - val_accuracy: 0.5152\n",
      "Epoch 2/50\n",
      "22/22 [==============================] - 8s 361ms/step - loss: 1.0465 - accuracy: 0.6162 - val_loss: 0.8285 - val_accuracy: 0.7236\n",
      "Epoch 3/50\n",
      "22/22 [==============================] - 8s 364ms/step - loss: 0.6809 - accuracy: 0.7773 - val_loss: 0.7833 - val_accuracy: 0.7525\n",
      "Epoch 4/50\n",
      "22/22 [==============================] - 8s 365ms/step - loss: 0.4765 - accuracy: 0.8345 - val_loss: 0.5041 - val_accuracy: 0.8090\n",
      "Epoch 5/50\n",
      "22/22 [==============================] - 8s 361ms/step - loss: 0.3309 - accuracy: 0.8860 - val_loss: 0.5068 - val_accuracy: 0.8509\n",
      "Epoch 6/50\n",
      "22/22 [==============================] - 8s 363ms/step - loss: 0.2871 - accuracy: 0.9030 - val_loss: 0.5190 - val_accuracy: 0.8336\n",
      "Epoch 7/50\n",
      "22/22 [==============================] - 8s 362ms/step - loss: 0.2153 - accuracy: 0.9301 - val_loss: 0.4853 - val_accuracy: 0.8495\n",
      "Epoch 8/50\n",
      "22/22 [==============================] - 8s 367ms/step - loss: 0.1404 - accuracy: 0.9544 - val_loss: 0.5350 - val_accuracy: 0.8437\n",
      "Epoch 9/50\n",
      "22/22 [==============================] - 8s 359ms/step - loss: 0.1492 - accuracy: 0.9464 - val_loss: 0.5479 - val_accuracy: 0.8480\n",
      "Epoch 10/50\n",
      "22/22 [==============================] - 8s 363ms/step - loss: 0.1339 - accuracy: 0.9500 - val_loss: 0.5880 - val_accuracy: 0.8538\n",
      "Epoch 11/50\n",
      "22/22 [==============================] - 8s 364ms/step - loss: 0.0666 - accuracy: 0.9823 - val_loss: 0.5967 - val_accuracy: 0.8452\n",
      "Epoch 12/50\n",
      "22/22 [==============================] - 8s 362ms/step - loss: 0.0643 - accuracy: 0.9776 - val_loss: 0.4903 - val_accuracy: 0.8726\n",
      "\n",
      "\n",
      " Model Evalation: \n",
      "\n",
      "27/27 [==============================] - 2s 78ms/step - loss: 0.4718 - accuracy: 0.8461\n",
      "[0.4718450903892517, 0.8460648059844971]\n"
     ]
    }
   ],
   "source": [
    "history = fit_model(vgg19_model)"
   ]
  },
  {
   "cell_type": "markdown",
   "metadata": {},
   "source": [
    "## We got accuracy of 84.61% using VGG19 pretrained model"
   ]
  },
  {
   "cell_type": "code",
   "execution_count": null,
   "metadata": {},
   "outputs": [],
   "source": []
  },
  {
   "cell_type": "code",
   "execution_count": null,
   "metadata": {},
   "outputs": [],
   "source": []
  }
 ],
 "metadata": {
  "kernelspec": {
   "display_name": "Python 3",
   "language": "python",
   "name": "python3"
  },
  "language_info": {
   "codemirror_mode": {
    "name": "ipython",
    "version": 3
   },
   "file_extension": ".py",
   "mimetype": "text/x-python",
   "name": "python",
   "nbconvert_exporter": "python",
   "pygments_lexer": "ipython3",
   "version": "3.9.7"
  }
 },
 "nbformat": 4,
 "nbformat_minor": 4
}
