{
 "cells": [
  {
   "cell_type": "code",
   "execution_count": 1,
   "metadata": {
    "execution": {
     "iopub.execute_input": "2022-03-13T15:50:00.345601Z",
     "iopub.status.busy": "2022-03-13T15:50:00.344945Z",
     "iopub.status.idle": "2022-03-13T15:50:05.935916Z",
     "shell.execute_reply": "2022-03-13T15:50:05.935136Z",
     "shell.execute_reply.started": "2022-03-13T15:50:00.345494Z"
    }
   },
   "outputs": [],
   "source": [
    "import warnings\n",
    "warnings.filterwarnings(\"ignore\")\n",
    "\n",
    "import numpy as np\n",
    "import matplotlib.pyplot as plt\n",
    "import pandas as pd\n",
    "import seaborn as sn\n",
    "import random\n",
    "from tqdm import tqdm\n",
    "import os\n",
    "import cv2\n",
    "import pickle\n",
    "\n",
    "from sklearn.preprocessing import LabelEncoder\n",
    "from tensorflow.keras.models import load_model\n",
    "\n",
    "\n",
    "import tensorflow as tf\n",
    "from tensorflow.keras import layers, models\n",
    "from sklearn.model_selection import train_test_split, KFold, GridSearchCV\n",
    "from sklearn.metrics import accuracy_score, precision_score, recall_score, confusion_matrix, roc_auc_score\n",
    "from tensorflow.keras.preprocessing.image import ImageDataGenerator\n",
    "from tensorflow.keras.models import Sequential, Model\n",
    "from tensorflow.keras.layers import Dense, Dropout, Flatten, Activation, Conv2D, MaxPooling2D, BatchNormalization, Input\n",
    "from tensorflow.keras.optimizers import Adam\n",
    "from tensorflow.keras.utils import to_categorical\n",
    "\n",
    "\n",
    "from tensorflow.keras.applications import ResNet50V2, ResNet101V2, ResNet152V2\n",
    "from tensorflow.keras.applications.resnet_v2 import decode_predictions, preprocess_input\n",
    "from tensorflow.keras.preprocessing import image\n"
   ]
  },
  {
   "cell_type": "markdown",
   "metadata": {},
   "source": [
    "# Feature Extraction"
   ]
  },
  {
   "cell_type": "code",
   "execution_count": 2,
   "metadata": {
    "execution": {
     "iopub.execute_input": "2022-03-13T15:50:05.937772Z",
     "iopub.status.busy": "2022-03-13T15:50:05.937519Z",
     "iopub.status.idle": "2022-03-13T15:50:05.942651Z",
     "shell.execute_reply": "2022-03-13T15:50:05.941976Z",
     "shell.execute_reply.started": "2022-03-13T15:50:05.937736Z"
    }
   },
   "outputs": [],
   "source": [
    "IMG_SIZE=224\n",
    "img_arr = []\n",
    "labels = []\n",
    "label_encoder = LabelEncoder()\n",
    "\n",
    "FLOWER_DAISY_DIR = \"../input/flowers-recognition/flowers/daisy/\"\n",
    "FLOWER_DANDELION_DIR = \"../input/flowers-recognition/flowers/dandelion/\"\n",
    "FLOWER_ROSE_DIR = \"../input/flowers-recognition/flowers/rose/\"\n",
    "FLOWER_SUNFLOWER_DIR = \"../input/flowers-recognition/flowers/sunflower/\"\n",
    "FLOWER_TULIP_DIR = \"../input/flowers-recognition/flowers/tulip/\""
   ]
  },
  {
   "cell_type": "code",
   "execution_count": 3,
   "metadata": {
    "execution": {
     "iopub.execute_input": "2022-03-13T14:51:15.992980Z",
     "iopub.status.busy": "2022-03-13T14:51:15.992568Z",
     "iopub.status.idle": "2022-03-13T14:51:16.004210Z",
     "shell.execute_reply": "2022-03-13T14:51:16.003385Z",
     "shell.execute_reply.started": "2022-03-13T14:51:15.992942Z"
    }
   },
   "outputs": [],
   "source": [
    "# Creating funtion to assign labels to each flower\n",
    "#image_cust = []\n",
    "def feature_extraction(path, flower_type):\n",
    "    \n",
    "    label = str(flower_type)                # flower_type is nothing but the class label of the flower\n",
    "    for img in tqdm(os.listdir(path)):      # os.listdir list all the files present in at the given location\n",
    "        img_path = path + str(img)          # combining folder path and image files name\n",
    "        img = cv2.imread(img_path, cv2.IMREAD_COLOR)       # Reading image file from the above location\n",
    "        img = cv2.resize(img, (IMG_SIZE, IMG_SIZE))        # Resizing image to dimensoion 224*224\n",
    "        \n",
    "        #img = np.expand_dims(img, axis=0)\n",
    "        #img = preprocess_input(img)\n",
    "        img_arr.append(img)       # Appending image value into a variable for further processing\n",
    "        labels.append(label) \n",
    "        "
   ]
  },
  {
   "cell_type": "code",
   "execution_count": 4,
   "metadata": {
    "execution": {
     "iopub.execute_input": "2022-03-13T14:51:16.006582Z",
     "iopub.status.busy": "2022-03-13T14:51:16.006335Z",
     "iopub.status.idle": "2022-03-13T14:51:16.018302Z",
     "shell.execute_reply": "2022-03-13T14:51:16.017629Z",
     "shell.execute_reply.started": "2022-03-13T14:51:16.006548Z"
    }
   },
   "outputs": [],
   "source": [
    "def pre_process():\n",
    "    # Following code will check for the presence of store image array and corresponding label in current working directory.\n",
    "    # If both files are present in CWD then we'll directly load that file to avoide re-processing\n",
    "    global img_arr\n",
    "    global labels\n",
    "    if os.path.isfile(\"img_arr_224.npy\") and os.path.isfile(\"labels_224.npy\"):\n",
    "        print(\"Reading file....\")\n",
    "        img_arr = np.load(\"img_arr_224.npy\")\n",
    "        labels = np.load(\"labels_224.npy\")\n",
    "        print(\"Done...\")\n",
    "\n",
    "    else:\n",
    "\n",
    "        # Creating list for storing image value and labels\n",
    "        \n",
    "        print(\"Pre-processing....\")\n",
    "        print(\"Flower -> Daisy....\")\n",
    "        feature_extraction(FLOWER_DAISY_DIR, \"daisy\")  # calling function to assign label to all images present at given dir location\n",
    "\n",
    "        print(\"Flower -> Dandelion....\")\n",
    "        feature_extraction(FLOWER_DANDELION_DIR, \"dandelion\")\n",
    "\n",
    "        print(\"Flower -> Rose....\")\n",
    "        feature_extraction(FLOWER_ROSE_DIR, \"rose\")\n",
    "\n",
    "        print(\"Flower -> Sunflower....\")\n",
    "        feature_extraction(FLOWER_SUNFLOWER_DIR, \"sunflower\")\n",
    "\n",
    "        print(\"Flower -> Tuplip....\")\n",
    "        feature_extraction(FLOWER_TULIP_DIR, \"tulip\")\n",
    "\n",
    "                                                   # Saving image and label array in cwd\n",
    "        img_arr = np.array(img_arr)\n",
    "        labels = np.array(labels)\n",
    "\n",
    "        \n",
    "        labels = label_encoder.fit_transform(labels) # Encoding all the labels into 0s and 1s\n",
    "        labels = to_categorical(labels,5)                 # As we are dealing with multiclass classification hear I'm performing onHotEncoding\n",
    "        img_arr = np.array(img_arr)                    \n",
    "        img_arr = img_arr/255                                # Normalizing image array\n",
    "\n",
    "        pickle.dump(label_encoder, open(\"label_encoder.pkl\", \"wb\"))\n",
    "        np.save(\"img_arr_224.npy\", img_arr)\n",
    "        np.save(\"labels_224.npy\", labels)\n",
    "\n",
    "        print(\"Done...\")\n",
    "\n",
    "np.random.seed(42)"
   ]
  },
  {
   "cell_type": "code",
   "execution_count": null,
   "metadata": {},
   "outputs": [],
   "source": []
  },
  {
   "cell_type": "code",
   "execution_count": null,
   "metadata": {},
   "outputs": [],
   "source": []
  },
  {
   "cell_type": "markdown",
   "metadata": {},
   "source": [
    "# Modeling..."
   ]
  },
  {
   "cell_type": "code",
   "execution_count": 3,
   "metadata": {
    "execution": {
     "iopub.execute_input": "2022-03-13T15:50:13.030866Z",
     "iopub.status.busy": "2022-03-13T15:50:13.029930Z",
     "iopub.status.idle": "2022-03-13T15:50:13.040542Z",
     "shell.execute_reply": "2022-03-13T15:50:13.039221Z",
     "shell.execute_reply.started": "2022-03-13T15:50:13.030806Z"
    }
   },
   "outputs": [],
   "source": [
    "def fit_model(model):\n",
    "    # Compiling the model\n",
    "    \n",
    "    model.compile(\n",
    "        optimizer=Adam(lr=0.001),\n",
    "        loss='categorical_crossentropy',\n",
    "        metrics=['accuracy'],\n",
    "    )\n",
    "    \n",
    "    \n",
    "    batch_size = 64\n",
    "    epochs = 50\n",
    "\n",
    "    # ModelCheckpoint ->   Callback is used in conjunction with training using model.fit() to save a model or weights\n",
    "    # ReduceLROnPlateau -> Reduce learning rate when a metric has stopped improving.\n",
    "    # EarlyStoppingStop -> Stop training when a monitored metric has stopped improving\n",
    "    \n",
    "    # monitor: quantity to be monitored.\n",
    "    # factor: factor by which the learning rate will be reduced. new_lr = lr * factor.\n",
    "    # patience: number of epochs with no improvement after which learning rate will be reduced.\n",
    "    # verbose: int. 0: quiet, 1: update messages.\n",
    "    # min_lr: lower bound on the learning rate.\n",
    "\n",
    "    from tensorflow.keras.callbacks import ReduceLROnPlateau, EarlyStopping, ModelCheckpoint\n",
    "    \n",
    "    mcp_save = ModelCheckpoint('resnet_model.h5', save_best_only=True, monitor='val_accuracy', mode='min')\n",
    "    earlyStopping = EarlyStopping(monitor='val_accuracy', patience=5, verbose=0, mode='auto', restore_best_weights=True)\n",
    "    red_lr= ReduceLROnPlateau(monitor='val_accuracy',patience=3,verbose=1,factor=0.5)\n",
    "    \n",
    "    \n",
    "    \n",
    "    # Fitting on training set and using validation set\n",
    "    history = model.fit_generator(datagen.flow(X_train, y_train, batch_size = batch_size),\n",
    "                        epochs = epochs, \n",
    "                        validation_data = (X_test, y_test),\n",
    "                        callbacks=[red_lr, earlyStopping, mcp_save],\n",
    "                        steps_per_epoch=X_train.shape[0] // batch_size,\n",
    "                        verbose=1)\n",
    "    \n",
    "    print(\"\\n\\n Model Evalation: \\n\\n\")\n",
    "    print(model.evaluate(X_test, y_test))\n",
    "    return history"
   ]
  },
  {
   "cell_type": "code",
   "execution_count": 4,
   "metadata": {
    "execution": {
     "iopub.execute_input": "2022-03-13T15:50:15.456321Z",
     "iopub.status.busy": "2022-03-13T15:50:15.455574Z",
     "iopub.status.idle": "2022-03-13T15:50:32.501402Z",
     "shell.execute_reply": "2022-03-13T15:50:32.500541Z",
     "shell.execute_reply.started": "2022-03-13T15:50:15.456270Z"
    },
    "scrolled": true
   },
   "outputs": [
    {
     "name": "stdout",
     "output_type": "stream",
     "text": [
      "Loading training and testing data from storage...\n",
      "Done...\n"
     ]
    }
   ],
   "source": [
    "# Saving all preprocessed and splitted file on local disk so we don't have to perform again.\n",
    "# Loading processed training and testing data from storage\n",
    "\n",
    "if os.path.isfile(\"X_train.npy\") and os.path.isfile(\"X_train.npy\") and os.path.isfile(\"y_train.npy\") and os.path.isfile(\"y_test.npy\"):\n",
    "    print(\"Loading training and testing data from storage...\")\n",
    "    label_encoder = pickle.load(open(\"label_encoder.pkl\", \"rb\"))\n",
    "    X_train = np.load(\"X_train.npy\")\n",
    "    X_test = np.load(\"X_test.npy\")\n",
    "    y_train = np.load(\"y_train.npy\")\n",
    "    y_test = np.load(\"y_test.npy\")\n",
    "    print(\"Done...\")\n",
    "else: \n",
    "    pre_process()  # If preprocessed files are not present on disk then here I'm calling pre_process function to process image data\n",
    "    print(\"Spliting data into training and test set.....\")\n",
    "    X_train, X_test, y_train, y_test = train_test_split(img_arr, labels, stratify = labels, test_size=0.2, random_state=42)\n",
    "    \n",
    "    print(\"Saving train and test set\")\n",
    "    np.save(\"X_train.npy\", X_train)\n",
    "    np.save(\"X_test.npy\", X_test)\n",
    "    np.save(\"y_train.npy\", y_train)\n",
    "    np.save(\"y_test.npy\", y_test)\n",
    "    print(\"Done...\")\n",
    "\n",
    "np.random.seed(42)"
   ]
  },
  {
   "cell_type": "markdown",
   "metadata": {},
   "source": [
    "# Data Agumentation"
   ]
  },
  {
   "cell_type": "code",
   "execution_count": 5,
   "metadata": {
    "execution": {
     "iopub.execute_input": "2022-03-13T15:50:32.504435Z",
     "iopub.status.busy": "2022-03-13T15:50:32.504209Z",
     "iopub.status.idle": "2022-03-13T15:50:36.582240Z",
     "shell.execute_reply": "2022-03-13T15:50:36.581220Z",
     "shell.execute_reply.started": "2022-03-13T15:50:32.504405Z"
    }
   },
   "outputs": [],
   "source": [
    "datagen = ImageDataGenerator(\n",
    "    featurewise_center= False,    # set input mean to 0 over the dataset\n",
    "    samplewise_center= False,     # set each sample mean to 0\n",
    "    featurewise_std_normalization= False,   # divide inputs by std of the dataset\n",
    "    samplewise_std_normalization= False,   # divide each input by its std\n",
    "    zca_whitening= False,         # apply ZCA whitening\n",
    "    rotation_range=10,            # randomly rotate images in the range (degrees, 0 to 180)\n",
    "    zoom_range = 0.1,             # Randomly zoom image \n",
    "    width_shift_range=0.2,        # randomly shift images horizontally (fraction of total width)\n",
    "    height_shift_range=0.2,       # randomly shift images vertically (fraction of total height)\n",
    "    horizontal_flip=True,         # randomly flip images\n",
    "    vertical_flip=False          # randomly flip images\n",
    "\n",
    ")\n",
    "\n",
    "datagen.fit(X_train)"
   ]
  },
  {
   "cell_type": "code",
   "execution_count": null,
   "metadata": {},
   "outputs": [],
   "source": []
  },
  {
   "cell_type": "markdown",
   "metadata": {},
   "source": [
    "# RESNET50"
   ]
  },
  {
   "cell_type": "code",
   "execution_count": 6,
   "metadata": {
    "execution": {
     "iopub.execute_input": "2022-03-13T14:54:45.957398Z",
     "iopub.status.busy": "2022-03-13T14:54:45.956677Z",
     "iopub.status.idle": "2022-03-13T14:54:45.967302Z",
     "shell.execute_reply": "2022-03-13T14:54:45.966254Z",
     "shell.execute_reply.started": "2022-03-13T14:54:45.957336Z"
    }
   },
   "outputs": [],
   "source": [
    "from tensorflow.keras.applications import ResNet50V2\n",
    "from tensorflow.keras.applications.resnet_v2 import preprocess_input\n",
    "def load_resnet_50():\n",
    "    print(\"Pre-trained RESNET50 model without top layers....\\n\")\n",
    "    model_50 = Sequential()\n",
    "    model_50.add(ResNet50V2(\n",
    "                weights=\"imagenet\",\n",
    "                include_top=False,\n",
    "                input_shape=(IMG_SIZE,IMG_SIZE,3), \n",
    "                pooling='avg',\n",
    "                classes=5,                           # no of classes present in data\n",
    "                classifier_activation=\"softmax\"\n",
    "        ))\n",
    "\n",
    "    \n",
    "\n",
    "    #for layer in model.layers[:-7]:\n",
    "     #   layer.trainable = False\n",
    "        \n",
    "    model_50.add(Flatten())\n",
    "    model_50.add(BatchNormalization())\n",
    "    model_50.add(Dense(2048, activation='relu'))\n",
    "    #model_50.add(Dropout(0.2))\n",
    "    model_50.add(BatchNormalization())\n",
    "    model_50.add(Dense(1024, activation='relu'))\n",
    "    #model_50.add(Dropout(0.2))\n",
    "    model_50.add(BatchNormalization())\n",
    "    model_50.add(Dense(5, activation='softmax'))\n",
    "    \n",
    "    model_50.layers[0].trainable = False        # Setting trainable parameter to False for resnet50v2 pretrained model\n",
    "    return model_50"
   ]
  },
  {
   "cell_type": "code",
   "execution_count": 7,
   "metadata": {
    "execution": {
     "iopub.execute_input": "2022-03-13T14:54:45.969879Z",
     "iopub.status.busy": "2022-03-13T14:54:45.969562Z",
     "iopub.status.idle": "2022-03-13T14:54:51.774633Z",
     "shell.execute_reply": "2022-03-13T14:54:51.773825Z",
     "shell.execute_reply.started": "2022-03-13T14:54:45.969808Z"
    }
   },
   "outputs": [
    {
     "name": "stderr",
     "output_type": "stream",
     "text": [
      "2022-03-13 14:54:46.071328: I tensorflow/stream_executor/cuda/cuda_gpu_executor.cc:937] successful NUMA node read from SysFS had negative value (-1), but there must be at least one NUMA node, so returning NUMA node zero\n",
      "2022-03-13 14:54:46.177417: I tensorflow/stream_executor/cuda/cuda_gpu_executor.cc:937] successful NUMA node read from SysFS had negative value (-1), but there must be at least one NUMA node, so returning NUMA node zero\n",
      "2022-03-13 14:54:46.178327: I tensorflow/stream_executor/cuda/cuda_gpu_executor.cc:937] successful NUMA node read from SysFS had negative value (-1), but there must be at least one NUMA node, so returning NUMA node zero\n",
      "2022-03-13 14:54:46.180435: I tensorflow/core/platform/cpu_feature_guard.cc:142] This TensorFlow binary is optimized with oneAPI Deep Neural Network Library (oneDNN) to use the following CPU instructions in performance-critical operations:  AVX2 AVX512F FMA\n",
      "To enable them in other operations, rebuild TensorFlow with the appropriate compiler flags.\n",
      "2022-03-13 14:54:46.180910: I tensorflow/stream_executor/cuda/cuda_gpu_executor.cc:937] successful NUMA node read from SysFS had negative value (-1), but there must be at least one NUMA node, so returning NUMA node zero\n",
      "2022-03-13 14:54:46.181688: I tensorflow/stream_executor/cuda/cuda_gpu_executor.cc:937] successful NUMA node read from SysFS had negative value (-1), but there must be at least one NUMA node, so returning NUMA node zero\n",
      "2022-03-13 14:54:46.182498: I tensorflow/stream_executor/cuda/cuda_gpu_executor.cc:937] successful NUMA node read from SysFS had negative value (-1), but there must be at least one NUMA node, so returning NUMA node zero\n",
      "2022-03-13 14:54:48.121069: I tensorflow/stream_executor/cuda/cuda_gpu_executor.cc:937] successful NUMA node read from SysFS had negative value (-1), but there must be at least one NUMA node, so returning NUMA node zero\n",
      "2022-03-13 14:54:48.121927: I tensorflow/stream_executor/cuda/cuda_gpu_executor.cc:937] successful NUMA node read from SysFS had negative value (-1), but there must be at least one NUMA node, so returning NUMA node zero\n",
      "2022-03-13 14:54:48.122583: I tensorflow/stream_executor/cuda/cuda_gpu_executor.cc:937] successful NUMA node read from SysFS had negative value (-1), but there must be at least one NUMA node, so returning NUMA node zero\n",
      "2022-03-13 14:54:48.124007: I tensorflow/core/common_runtime/gpu/gpu_device.cc:1510] Created device /job:localhost/replica:0/task:0/device:GPU:0 with 15403 MB memory:  -> device: 0, name: Tesla P100-PCIE-16GB, pci bus id: 0000:00:04.0, compute capability: 6.0\n"
     ]
    },
    {
     "name": "stdout",
     "output_type": "stream",
     "text": [
      "Downloading data from https://storage.googleapis.com/tensorflow/keras-applications/resnet/resnet50v2_weights_tf_dim_ordering_tf_kernels_notop.h5\n",
      "94674944/94668760 [==============================] - 1s 0us/step\n",
      "94683136/94668760 [==============================] - 1s 0us/step\n",
      "Pre-trained RESNET50 model without top layers....\n",
      "\n",
      "Model: \"sequential\"\n",
      "_________________________________________________________________\n",
      "Layer (type)                 Output Shape              Param #   \n",
      "=================================================================\n",
      "resnet50v2 (Functional)      (None, 2048)              23564800  \n",
      "_________________________________________________________________\n",
      "flatten (Flatten)            (None, 2048)              0         \n",
      "_________________________________________________________________\n",
      "batch_normalization (BatchNo (None, 2048)              8192      \n",
      "_________________________________________________________________\n",
      "dense (Dense)                (None, 2048)              4196352   \n",
      "_________________________________________________________________\n",
      "batch_normalization_1 (Batch (None, 2048)              8192      \n",
      "_________________________________________________________________\n",
      "dense_1 (Dense)              (None, 1024)              2098176   \n",
      "_________________________________________________________________\n",
      "batch_normalization_2 (Batch (None, 1024)              4096      \n",
      "_________________________________________________________________\n",
      "dense_2 (Dense)              (None, 5)                 5125      \n",
      "=================================================================\n",
      "Total params: 29,884,933\n",
      "Trainable params: 6,309,893\n",
      "Non-trainable params: 23,575,040\n",
      "_________________________________________________________________\n"
     ]
    }
   ],
   "source": [
    "resnet_50 = load_resnet_50()\n",
    "resnet_50.summary()"
   ]
  },
  {
   "cell_type": "code",
   "execution_count": 8,
   "metadata": {
    "execution": {
     "iopub.execute_input": "2022-03-13T14:54:51.776519Z",
     "iopub.status.busy": "2022-03-13T14:54:51.776084Z",
     "iopub.status.idle": "2022-03-13T15:07:26.522875Z",
     "shell.execute_reply": "2022-03-13T15:07:26.522085Z",
     "shell.execute_reply.started": "2022-03-13T14:54:51.776479Z"
    }
   },
   "outputs": [
    {
     "name": "stderr",
     "output_type": "stream",
     "text": [
      "2022-03-13 14:54:54.852767: I tensorflow/compiler/mlir/mlir_graph_optimization_pass.cc:185] None of the MLIR Optimization Passes are enabled (registered 2)\n"
     ]
    },
    {
     "name": "stdout",
     "output_type": "stream",
     "text": [
      "Epoch 1/50\n"
     ]
    },
    {
     "name": "stderr",
     "output_type": "stream",
     "text": [
      "2022-03-13 14:54:59.597419: I tensorflow/stream_executor/cuda/cuda_dnn.cc:369] Loaded cuDNN version 8005\n"
     ]
    },
    {
     "name": "stdout",
     "output_type": "stream",
     "text": [
      "53/53 [==============================] - ETA: 0s - loss: 1.1048 - accuracy: 0.7462"
     ]
    },
    {
     "name": "stderr",
     "output_type": "stream",
     "text": [
      "2022-03-13 14:55:40.842296: W tensorflow/core/framework/cpu_allocator_impl.cc:80] Allocation of 520224768 exceeds 10% of free system memory.\n",
      "2022-03-13 14:55:41.407644: W tensorflow/core/framework/cpu_allocator_impl.cc:80] Allocation of 520224768 exceeds 10% of free system memory.\n"
     ]
    },
    {
     "name": "stdout",
     "output_type": "stream",
     "text": [
      "53/53 [==============================] - 50s 755ms/step - loss: 1.1048 - accuracy: 0.7462 - val_loss: 0.6103 - val_accuracy: 0.8148\n",
      "Epoch 2/50\n",
      "53/53 [==============================] - 37s 698ms/step - loss: 0.3910 - accuracy: 0.8604 - val_loss: 0.4521 - val_accuracy: 0.8495\n",
      "Epoch 3/50\n",
      "53/53 [==============================] - 39s 727ms/step - loss: 0.2682 - accuracy: 0.9026 - val_loss: 0.4361 - val_accuracy: 0.8576\n",
      "Epoch 4/50\n",
      "53/53 [==============================] - 38s 718ms/step - loss: 0.2665 - accuracy: 0.9076 - val_loss: 0.4501 - val_accuracy: 0.8507\n",
      "Epoch 5/50\n",
      "53/53 [==============================] - 38s 709ms/step - loss: 0.2198 - accuracy: 0.9183 - val_loss: 0.4987 - val_accuracy: 0.8530\n",
      "Epoch 6/50\n",
      "53/53 [==============================] - 37s 694ms/step - loss: 0.2137 - accuracy: 0.9242 - val_loss: 0.4594 - val_accuracy: 0.8646\n",
      "Epoch 7/50\n",
      "53/53 [==============================] - 38s 709ms/step - loss: 0.1866 - accuracy: 0.9265 - val_loss: 0.4482 - val_accuracy: 0.8646\n",
      "Epoch 8/50\n",
      "53/53 [==============================] - 38s 721ms/step - loss: 0.1785 - accuracy: 0.9371 - val_loss: 0.5126 - val_accuracy: 0.8588\n",
      "Epoch 9/50\n",
      "53/53 [==============================] - 38s 721ms/step - loss: 0.1763 - accuracy: 0.9371 - val_loss: 0.5016 - val_accuracy: 0.8692\n",
      "Epoch 10/50\n",
      "53/53 [==============================] - 37s 693ms/step - loss: 0.1370 - accuracy: 0.9513 - val_loss: 0.5372 - val_accuracy: 0.8681\n",
      "Epoch 11/50\n",
      "53/53 [==============================] - 37s 698ms/step - loss: 0.1335 - accuracy: 0.9492 - val_loss: 0.5270 - val_accuracy: 0.8646\n",
      "Epoch 12/50\n",
      "53/53 [==============================] - 38s 711ms/step - loss: 0.1388 - accuracy: 0.9487 - val_loss: 0.5698 - val_accuracy: 0.8692\n",
      "Epoch 13/50\n",
      "53/53 [==============================] - 38s 720ms/step - loss: 0.1271 - accuracy: 0.9557 - val_loss: 0.5545 - val_accuracy: 0.8843\n",
      "Epoch 14/50\n",
      "53/53 [==============================] - 38s 722ms/step - loss: 0.1358 - accuracy: 0.9495 - val_loss: 0.6021 - val_accuracy: 0.8646\n",
      "Epoch 15/50\n",
      "53/53 [==============================] - 36s 677ms/step - loss: 0.0996 - accuracy: 0.9622 - val_loss: 0.5920 - val_accuracy: 0.8623\n",
      "Epoch 16/50\n",
      "53/53 [==============================] - 38s 709ms/step - loss: 0.1363 - accuracy: 0.9525 - val_loss: 0.5882 - val_accuracy: 0.8576\n",
      "Epoch 17/50\n",
      "53/53 [==============================] - 38s 722ms/step - loss: 0.1104 - accuracy: 0.9613 - val_loss: 0.5374 - val_accuracy: 0.8657\n",
      "Epoch 18/50\n",
      "53/53 [==============================] - 38s 721ms/step - loss: 0.1049 - accuracy: 0.9611 - val_loss: 0.5313 - val_accuracy: 0.8715\n",
      "\n",
      "\n",
      " Model Evalation: \n",
      "\n",
      "\n"
     ]
    },
    {
     "name": "stderr",
     "output_type": "stream",
     "text": [
      "2022-03-13 15:07:23.101315: W tensorflow/core/framework/cpu_allocator_impl.cc:80] Allocation of 520224768 exceeds 10% of free system memory.\n",
      "2022-03-13 15:07:23.699898: W tensorflow/core/framework/cpu_allocator_impl.cc:80] Allocation of 520224768 exceeds 10% of free system memory.\n"
     ]
    },
    {
     "name": "stdout",
     "output_type": "stream",
     "text": [
      "27/27 [==============================] - 1s 54ms/step - loss: 0.5545 - accuracy: 0.8843\n",
      "[0.554544985294342, 0.8842592835426331]\n"
     ]
    }
   ],
   "source": [
    "history = fit_model(resnet_50)   # fitting resnet50 model to the training data"
   ]
  },
  {
   "cell_type": "markdown",
   "metadata": {},
   "source": [
    "### Here we got 88.5% accuracy using RESNET50V2 model"
   ]
  },
  {
   "cell_type": "code",
   "execution_count": 9,
   "metadata": {
    "execution": {
     "iopub.execute_input": "2022-03-13T15:07:26.526303Z",
     "iopub.status.busy": "2022-03-13T15:07:26.526071Z",
     "iopub.status.idle": "2022-03-13T15:07:26.761505Z",
     "shell.execute_reply": "2022-03-13T15:07:26.760789Z",
     "shell.execute_reply.started": "2022-03-13T15:07:26.526274Z"
    }
   },
   "outputs": [
    {
     "data": {
      "image/png": "[encoded data removed]",
      "text/plain": [
       "<Figure size 432x288 with 1 Axes>"
      ]
     },
     "metadata": {
      "needs_background": "light"
     },
     "output_type": "display_data"
    }
   ],
   "source": [
    "import matplotlib.pyplot as plt\n",
    "plt.plot(history.history['accuracy'])\n",
    "plt.plot(history.history['val_accuracy'])\n",
    "plt.title('Model Accuracy')\n",
    "plt.ylabel('Accuracy')\n",
    "plt.xlabel('Epochs')\n",
    "plt.legend(['train', 'test'])\n",
    "plt.show()"
   ]
  },
  {
   "cell_type": "code",
   "execution_count": null,
   "metadata": {},
   "outputs": [],
   "source": []
  },
  {
   "cell_type": "code",
   "execution_count": null,
   "metadata": {},
   "outputs": [],
   "source": []
  },
  {
   "cell_type": "markdown",
   "metadata": {},
   "source": [
    "# RESNET_101V2"
   ]
  },
  {
   "cell_type": "code",
   "execution_count": 5,
   "metadata": {
    "execution": {
     "iopub.execute_input": "2022-03-13T15:20:14.272906Z",
     "iopub.status.busy": "2022-03-13T15:20:14.272636Z",
     "iopub.status.idle": "2022-03-13T15:20:14.282931Z",
     "shell.execute_reply": "2022-03-13T15:20:14.282056Z",
     "shell.execute_reply.started": "2022-03-13T15:20:14.272866Z"
    }
   },
   "outputs": [],
   "source": [
    "def load_resnet_101():\n",
    "    model101 = Sequential()\n",
    "    model101.add(ResNet101V2(\n",
    "                weights=\"imagenet\",\n",
    "                include_top=False,\n",
    "                input_shape=(IMG_SIZE,IMG_SIZE,3),\n",
    "                pooling='avg',\n",
    "                classes=5,\n",
    "                classifier_activation=\"softmax\"\n",
    "        ))\n",
    "\n",
    "    print(\"Pre-trained RESNET50 model without top layers....\\n\")\n",
    "\n",
    "    #for layer in model.layers[:-7]:\n",
    "     #   layer.trainable = False\n",
    "        \n",
    "    model101.add(Flatten())\n",
    "    model101.add(BatchNormalization())\n",
    "    model101.add(Dense(2048, activation='relu'))\n",
    "    model101.add(Dropout(0.2))\n",
    "    model101.add(BatchNormalization())\n",
    "    model101.add(Dense(1024, activation='relu'))\n",
    "    model101.add(Dropout(0.2))\n",
    "    model101.add(BatchNormalization())\n",
    "    model101.add(Dense(5, activation='softmax'))\n",
    "    \n",
    "    model101.layers[0].trainable = False\n",
    "    return model101"
   ]
  },
  {
   "cell_type": "code",
   "execution_count": 8,
   "metadata": {
    "execution": {
     "iopub.execute_input": "2022-03-13T15:20:37.428766Z",
     "iopub.status.busy": "2022-03-13T15:20:37.428095Z",
     "iopub.status.idle": "2022-03-13T15:20:41.240949Z",
     "shell.execute_reply": "2022-03-13T15:20:41.240176Z",
     "shell.execute_reply.started": "2022-03-13T15:20:37.428723Z"
    }
   },
   "outputs": [
    {
     "name": "stdout",
     "output_type": "stream",
     "text": [
      "Pre-trained RESNET50 model without top layers....\n",
      "\n",
      "Model: \"sequential_1\"\n",
      "_________________________________________________________________\n",
      "Layer (type)                 Output Shape              Param #   \n",
      "=================================================================\n",
      "resnet101v2 (Functional)     (None, 2048)              42626560  \n",
      "_________________________________________________________________\n",
      "flatten (Flatten)            (None, 2048)              0         \n",
      "_________________________________________________________________\n",
      "batch_normalization (BatchNo (None, 2048)              8192      \n",
      "_________________________________________________________________\n",
      "dense (Dense)                (None, 2048)              4196352   \n",
      "_________________________________________________________________\n",
      "dropout (Dropout)            (None, 2048)              0         \n",
      "_________________________________________________________________\n",
      "batch_normalization_1 (Batch (None, 2048)              8192      \n",
      "_________________________________________________________________\n",
      "dense_1 (Dense)              (None, 1024)              2098176   \n",
      "_________________________________________________________________\n",
      "dropout_1 (Dropout)          (None, 1024)              0         \n",
      "_________________________________________________________________\n",
      "batch_normalization_2 (Batch (None, 1024)              4096      \n",
      "_________________________________________________________________\n",
      "dense_2 (Dense)              (None, 5)                 5125      \n",
      "=================================================================\n",
      "Total params: 48,946,693\n",
      "Trainable params: 6,309,893\n",
      "Non-trainable params: 42,636,800\n",
      "_________________________________________________________________\n"
     ]
    }
   ],
   "source": [
    "resnet_101 = load_resnet_101()\n",
    "resnet_101.summary()"
   ]
  },
  {
   "cell_type": "code",
   "execution_count": 11,
   "metadata": {
    "execution": {
     "iopub.execute_input": "2022-03-13T15:21:00.209084Z",
     "iopub.status.busy": "2022-03-13T15:21:00.208286Z",
     "iopub.status.idle": "2022-03-13T15:26:48.947533Z",
     "shell.execute_reply": "2022-03-13T15:26:48.946721Z",
     "shell.execute_reply.started": "2022-03-13T15:21:00.209043Z"
    }
   },
   "outputs": [
    {
     "name": "stderr",
     "output_type": "stream",
     "text": [
      "2022-03-13 15:21:02.211080: I tensorflow/compiler/mlir/mlir_graph_optimization_pass.cc:185] None of the MLIR Optimization Passes are enabled (registered 2)\n"
     ]
    },
    {
     "name": "stdout",
     "output_type": "stream",
     "text": [
      "Epoch 1/50\n"
     ]
    },
    {
     "name": "stderr",
     "output_type": "stream",
     "text": [
      "2022-03-13 15:21:09.395558: I tensorflow/stream_executor/cuda/cuda_dnn.cc:369] Loaded cuDNN version 8005\n"
     ]
    },
    {
     "name": "stdout",
     "output_type": "stream",
     "text": [
      "53/53 [==============================] - ETA: 0s - loss: 0.9455 - accuracy: 0.7636"
     ]
    },
    {
     "name": "stderr",
     "output_type": "stream",
     "text": [
      "2022-03-13 15:21:51.629876: W tensorflow/core/framework/cpu_allocator_impl.cc:80] Allocation of 520224768 exceeds 10% of free system memory.\n",
      "2022-03-13 15:21:52.243263: W tensorflow/core/framework/cpu_allocator_impl.cc:80] Allocation of 520224768 exceeds 10% of free system memory.\n"
     ]
    },
    {
     "name": "stdout",
     "output_type": "stream",
     "text": [
      "53/53 [==============================] - 57s 855ms/step - loss: 0.9455 - accuracy: 0.7636 - val_loss: 0.7240 - val_accuracy: 0.8148\n",
      "Epoch 2/50\n",
      "53/53 [==============================] - 40s 748ms/step - loss: 0.4642 - accuracy: 0.8480 - val_loss: 0.4800 - val_accuracy: 0.8565\n",
      "Epoch 3/50\n",
      "53/53 [==============================] - 39s 741ms/step - loss: 0.3426 - accuracy: 0.8814 - val_loss: 0.5276 - val_accuracy: 0.8403\n",
      "Epoch 4/50\n",
      "53/53 [==============================] - 39s 742ms/step - loss: 0.3028 - accuracy: 0.8893 - val_loss: 0.4395 - val_accuracy: 0.8530\n",
      "Epoch 5/50\n",
      "53/53 [==============================] - 39s 738ms/step - loss: 0.2400 - accuracy: 0.9153 - val_loss: 0.4636 - val_accuracy: 0.8565\n",
      "Epoch 6/50\n",
      "53/53 [==============================] - 40s 748ms/step - loss: 0.2475 - accuracy: 0.9094 - val_loss: 0.4764 - val_accuracy: 0.8565\n",
      "Epoch 7/50\n",
      "53/53 [==============================] - 39s 741ms/step - loss: 0.2125 - accuracy: 0.9292 - val_loss: 0.5252 - val_accuracy: 0.8519\n",
      "\n",
      "\n",
      " Model Evalation: \n",
      "\n",
      "\n"
     ]
    },
    {
     "name": "stderr",
     "output_type": "stream",
     "text": [
      "2022-03-13 15:26:04.909943: W tensorflow/core/framework/cpu_allocator_impl.cc:80] Allocation of 520224768 exceeds 10% of free system memory.\n",
      "2022-03-13 15:26:05.496454: W tensorflow/core/framework/cpu_allocator_impl.cc:80] Allocation of 520224768 exceeds 10% of free system memory.\n"
     ]
    },
    {
     "name": "stdout",
     "output_type": "stream",
     "text": [
      "27/27 [==============================] - 3s 93ms/step - loss: 0.4800 - accuracy: 0.8565\n",
      "[0.4799584150314331, 0.8564814925193787]\n"
     ]
    }
   ],
   "source": [
    "history = fit_model(resnet_101)"
   ]
  },
  {
   "cell_type": "markdown",
   "metadata": {},
   "source": [
    "## Here we got 85.7% accuracy using RESNET-101V2 model"
   ]
  },
  {
   "cell_type": "code",
   "execution_count": 12,
   "metadata": {
    "execution": {
     "iopub.execute_input": "2022-03-13T15:37:00.878670Z",
     "iopub.status.busy": "2022-03-13T15:37:00.877802Z",
     "iopub.status.idle": "2022-03-13T15:37:01.150479Z",
     "shell.execute_reply": "2022-03-13T15:37:01.149718Z",
     "shell.execute_reply.started": "2022-03-13T15:37:00.878626Z"
    }
   },
   "outputs": [
    {
     "data": {
      "image/png": "[encoded data removed]",
      "text/plain": [
       "<Figure size 432x288 with 1 Axes>"
      ]
     },
     "metadata": {
      "needs_background": "light"
     },
     "output_type": "display_data"
    }
   ],
   "source": [
    "import matplotlib.pyplot as plt\n",
    "plt.plot(history.history['accuracy'])\n",
    "plt.plot(history.history['val_accuracy'])\n",
    "plt.title('Model Accuracy')\n",
    "plt.ylabel('Accuracy')\n",
    "plt.xlabel('Epochs')\n",
    "plt.legend(['train', 'test'])\n",
    "plt.show()"
   ]
  },
  {
   "cell_type": "code",
   "execution_count": null,
   "metadata": {},
   "outputs": [],
   "source": []
  },
  {
   "cell_type": "code",
   "execution_count": null,
   "metadata": {},
   "outputs": [],
   "source": []
  },
  {
   "cell_type": "code",
   "execution_count": null,
   "metadata": {},
   "outputs": [],
   "source": []
  },
  {
   "cell_type": "markdown",
   "metadata": {},
   "source": [
    "# RESNET_152V2"
   ]
  },
  {
   "cell_type": "code",
   "execution_count": 6,
   "metadata": {
    "execution": {
     "iopub.execute_input": "2022-03-13T15:50:55.302018Z",
     "iopub.status.busy": "2022-03-13T15:50:55.301705Z",
     "iopub.status.idle": "2022-03-13T15:50:55.309796Z",
     "shell.execute_reply": "2022-03-13T15:50:55.308882Z",
     "shell.execute_reply.started": "2022-03-13T15:50:55.301982Z"
    }
   },
   "outputs": [],
   "source": [
    "from tensorflow.keras.applications import ResNet152V2\n",
    "from tensorflow.keras.applications.resnet_v2 import preprocess_input\n",
    "def load_resnet_152():\n",
    "    model_152 = Sequential()\n",
    "    model_152.add(ResNet152V2(\n",
    "                weights=\"imagenet\",\n",
    "                include_top=False,\n",
    "                input_shape=(IMG_SIZE,IMG_SIZE,3),\n",
    "                pooling='avg',\n",
    "                classes=5,\n",
    "                classifier_activation=\"softmax\"\n",
    "        ))\n",
    "\n",
    "    print(\"Pre-trained RESNET50 model without top layers....\\n\")\n",
    "\n",
    "    #for layer in model.layers[:-7]:\n",
    "     #   layer.trainable = False\n",
    "        \n",
    "    model_152.add(Flatten())\n",
    "    model_152.add(BatchNormalization())\n",
    "    model_152.add(Dense(2048, activation='relu'))\n",
    "    #model_152.add(Dropout(0.2))\n",
    "    model_152.add(BatchNormalization())\n",
    "    model_152.add(Dense(1024, activation='relu'))\n",
    "    #model_152.add(Dropout(0.2))\n",
    "    model_152.add(BatchNormalization())\n",
    "    model_152.add(Dense(5, activation='softmax'))\n",
    "    \n",
    "    model_152.layers[0].trainable = False\n",
    "    return model_152"
   ]
  },
  {
   "cell_type": "code",
   "execution_count": 7,
   "metadata": {
    "execution": {
     "iopub.execute_input": "2022-03-13T15:50:56.388390Z",
     "iopub.status.busy": "2022-03-13T15:50:56.387962Z",
     "iopub.status.idle": "2022-03-13T15:51:05.392494Z",
     "shell.execute_reply": "2022-03-13T15:51:05.391400Z",
     "shell.execute_reply.started": "2022-03-13T15:50:56.388356Z"
    }
   },
   "outputs": [
    {
     "name": "stderr",
     "output_type": "stream",
     "text": [
      "2022-03-13 15:50:56.493996: I tensorflow/stream_executor/cuda/cuda_gpu_executor.cc:937] successful NUMA node read from SysFS had negative value (-1), but there must be at least one NUMA node, so returning NUMA node zero\n",
      "2022-03-13 15:50:56.583344: I tensorflow/stream_executor/cuda/cuda_gpu_executor.cc:937] successful NUMA node read from SysFS had negative value (-1), but there must be at least one NUMA node, so returning NUMA node zero\n",
      "2022-03-13 15:50:56.584031: I tensorflow/stream_executor/cuda/cuda_gpu_executor.cc:937] successful NUMA node read from SysFS had negative value (-1), but there must be at least one NUMA node, so returning NUMA node zero\n",
      "2022-03-13 15:50:56.586771: I tensorflow/core/platform/cpu_feature_guard.cc:142] This TensorFlow binary is optimized with oneAPI Deep Neural Network Library (oneDNN) to use the following CPU instructions in performance-critical operations:  AVX2 AVX512F FMA\n",
      "To enable them in other operations, rebuild TensorFlow with the appropriate compiler flags.\n",
      "2022-03-13 15:50:56.587120: I tensorflow/stream_executor/cuda/cuda_gpu_executor.cc:937] successful NUMA node read from SysFS had negative value (-1), but there must be at least one NUMA node, so returning NUMA node zero\n",
      "2022-03-13 15:50:56.587818: I tensorflow/stream_executor/cuda/cuda_gpu_executor.cc:937] successful NUMA node read from SysFS had negative value (-1), but there must be at least one NUMA node, so returning NUMA node zero\n",
      "2022-03-13 15:50:56.588503: I tensorflow/stream_executor/cuda/cuda_gpu_executor.cc:937] successful NUMA node read from SysFS had negative value (-1), but there must be at least one NUMA node, so returning NUMA node zero\n",
      "2022-03-13 15:50:58.539803: I tensorflow/stream_executor/cuda/cuda_gpu_executor.cc:937] successful NUMA node read from SysFS had negative value (-1), but there must be at least one NUMA node, so returning NUMA node zero\n",
      "2022-03-13 15:50:58.540747: I tensorflow/stream_executor/cuda/cuda_gpu_executor.cc:937] successful NUMA node read from SysFS had negative value (-1), but there must be at least one NUMA node, so returning NUMA node zero\n",
      "2022-03-13 15:50:58.541492: I tensorflow/stream_executor/cuda/cuda_gpu_executor.cc:937] successful NUMA node read from SysFS had negative value (-1), but there must be at least one NUMA node, so returning NUMA node zero\n",
      "2022-03-13 15:50:58.542734: I tensorflow/core/common_runtime/gpu/gpu_device.cc:1510] Created device /job:localhost/replica:0/task:0/device:GPU:0 with 15403 MB memory:  -> device: 0, name: Tesla P100-PCIE-16GB, pci bus id: 0000:00:04.0, compute capability: 6.0\n"
     ]
    },
    {
     "name": "stdout",
     "output_type": "stream",
     "text": [
      "Pre-trained RESNET50 model without top layers....\n",
      "\n",
      "Model: \"sequential\"\n",
      "_________________________________________________________________\n",
      "Layer (type)                 Output Shape              Param #   \n",
      "=================================================================\n",
      "resnet152v2 (Functional)     (None, 2048)              58331648  \n",
      "_________________________________________________________________\n",
      "flatten (Flatten)            (None, 2048)              0         \n",
      "_________________________________________________________________\n",
      "batch_normalization (BatchNo (None, 2048)              8192      \n",
      "_________________________________________________________________\n",
      "dense (Dense)                (None, 2048)              4196352   \n",
      "_________________________________________________________________\n",
      "batch_normalization_1 (Batch (None, 2048)              8192      \n",
      "_________________________________________________________________\n",
      "dense_1 (Dense)              (None, 1024)              2098176   \n",
      "_________________________________________________________________\n",
      "batch_normalization_2 (Batch (None, 1024)              4096      \n",
      "_________________________________________________________________\n",
      "dense_2 (Dense)              (None, 5)                 5125      \n",
      "=================================================================\n",
      "Total params: 64,651,781\n",
      "Trainable params: 6,309,893\n",
      "Non-trainable params: 58,341,888\n",
      "_________________________________________________________________\n"
     ]
    }
   ],
   "source": [
    "model_152 = load_resnet_152()\n",
    "model_152.summary()"
   ]
  },
  {
   "cell_type": "code",
   "execution_count": 8,
   "metadata": {
    "execution": {
     "iopub.execute_input": "2022-03-13T15:51:05.397848Z",
     "iopub.status.busy": "2022-03-13T15:51:05.394610Z",
     "iopub.status.idle": "2022-03-13T16:04:06.374944Z",
     "shell.execute_reply": "2022-03-13T16:04:06.373858Z",
     "shell.execute_reply.started": "2022-03-13T15:51:05.397805Z"
    }
   },
   "outputs": [
    {
     "name": "stderr",
     "output_type": "stream",
     "text": [
      "2022-03-13 15:51:07.579787: I tensorflow/compiler/mlir/mlir_graph_optimization_pass.cc:185] None of the MLIR Optimization Passes are enabled (registered 2)\n"
     ]
    },
    {
     "name": "stdout",
     "output_type": "stream",
     "text": [
      "Epoch 1/50\n"
     ]
    },
    {
     "name": "stderr",
     "output_type": "stream",
     "text": [
      "2022-03-13 15:51:17.078703: I tensorflow/stream_executor/cuda/cuda_dnn.cc:369] Loaded cuDNN version 8005\n"
     ]
    },
    {
     "name": "stdout",
     "output_type": "stream",
     "text": [
      "53/53 [==============================] - ETA: 0s - loss: 1.0409 - accuracy: 0.7527"
     ]
    },
    {
     "name": "stderr",
     "output_type": "stream",
     "text": [
      "2022-03-13 15:52:00.966006: W tensorflow/core/framework/cpu_allocator_impl.cc:80] Allocation of 520224768 exceeds 10% of free system memory.\n",
      "2022-03-13 15:52:01.543044: W tensorflow/core/framework/cpu_allocator_impl.cc:80] Allocation of 520224768 exceeds 10% of free system memory.\n"
     ]
    },
    {
     "name": "stdout",
     "output_type": "stream",
     "text": [
      "53/53 [==============================] - 62s 896ms/step - loss: 1.0409 - accuracy: 0.7527 - val_loss: 0.6461 - val_accuracy: 0.8345\n",
      "Epoch 2/50\n",
      "53/53 [==============================] - 42s 800ms/step - loss: 0.4373 - accuracy: 0.8528 - val_loss: 0.4428 - val_accuracy: 0.8542\n",
      "Epoch 3/50\n",
      "53/53 [==============================] - 42s 790ms/step - loss: 0.3090 - accuracy: 0.8947 - val_loss: 0.4207 - val_accuracy: 0.8681\n",
      "Epoch 4/50\n",
      "53/53 [==============================] - 43s 809ms/step - loss: 0.2799 - accuracy: 0.9012 - val_loss: 0.4444 - val_accuracy: 0.8600\n",
      "Epoch 5/50\n",
      "53/53 [==============================] - 43s 802ms/step - loss: 0.2216 - accuracy: 0.9239 - val_loss: 0.4272 - val_accuracy: 0.8669\n",
      "Epoch 6/50\n",
      "53/53 [==============================] - 42s 796ms/step - loss: 0.2299 - accuracy: 0.9180 - val_loss: 0.4674 - val_accuracy: 0.8588\n",
      "Epoch 7/50\n",
      "53/53 [==============================] - 44s 837ms/step - loss: 0.2116 - accuracy: 0.9253 - val_loss: 0.5416 - val_accuracy: 0.8634\n",
      "Epoch 8/50\n",
      "53/53 [==============================] - 41s 778ms/step - loss: 0.1830 - accuracy: 0.9321 - val_loss: 0.5134 - val_accuracy: 0.8715\n",
      "Epoch 9/50\n",
      "53/53 [==============================] - 42s 792ms/step - loss: 0.1841 - accuracy: 0.9312 - val_loss: 0.5445 - val_accuracy: 0.8611\n",
      "Epoch 10/50\n",
      "53/53 [==============================] - 42s 799ms/step - loss: 0.1513 - accuracy: 0.9419 - val_loss: 0.5381 - val_accuracy: 0.8657\n",
      "Epoch 11/50\n",
      "53/53 [==============================] - 44s 829ms/step - loss: 0.1429 - accuracy: 0.9460 - val_loss: 0.5281 - val_accuracy: 0.8553\n",
      "Epoch 12/50\n",
      "53/53 [==============================] - 44s 837ms/step - loss: 0.1439 - accuracy: 0.9472 - val_loss: 0.5254 - val_accuracy: 0.8692\n",
      "Epoch 13/50\n",
      "53/53 [==============================] - 44s 827ms/step - loss: 0.1334 - accuracy: 0.9546 - val_loss: 0.5992 - val_accuracy: 0.8704\n",
      "\n",
      "\n",
      " Model Evalation: \n",
      "\n",
      "\n"
     ]
    },
    {
     "name": "stderr",
     "output_type": "stream",
     "text": [
      "2022-03-13 16:03:24.067519: W tensorflow/core/framework/cpu_allocator_impl.cc:80] Allocation of 520224768 exceeds 10% of free system memory.\n",
      "2022-03-13 16:03:24.717137: W tensorflow/core/framework/cpu_allocator_impl.cc:80] Allocation of 520224768 exceeds 10% of free system memory.\n"
     ]
    },
    {
     "name": "stdout",
     "output_type": "stream",
     "text": [
      "27/27 [==============================] - 4s 129ms/step - loss: 0.5134 - accuracy: 0.8715\n",
      "[0.5133639574050903, 0.8715277910232544]\n"
     ]
    }
   ],
   "source": [
    "history = fit_model(model_152)"
   ]
  },
  {
   "cell_type": "markdown",
   "metadata": {},
   "source": [
    "## We got 87.2% accuracy using RESNET_152V2 model"
   ]
  },
  {
   "cell_type": "code",
   "execution_count": 9,
   "metadata": {
    "execution": {
     "iopub.execute_input": "2022-03-13T16:05:02.795781Z",
     "iopub.status.busy": "2022-03-13T16:05:02.795091Z",
     "iopub.status.idle": "2022-03-13T16:05:03.078071Z",
     "shell.execute_reply": "2022-03-13T16:05:03.077046Z",
     "shell.execute_reply.started": "2022-03-13T16:05:02.795737Z"
    }
   },
   "outputs": [
    {
     "data": {
      "image/png": "[encoded data removed]",
      "text/plain": [
       "<Figure size 432x288 with 1 Axes>"
      ]
     },
     "metadata": {
      "needs_background": "light"
     },
     "output_type": "display_data"
    }
   ],
   "source": [
    "import matplotlib.pyplot as plt\n",
    "plt.plot(history.history['accuracy'])\n",
    "plt.plot(history.history['val_accuracy'])\n",
    "plt.title('Model Accuracy')\n",
    "plt.ylabel('Accuracy')\n",
    "plt.xlabel('Epochs')\n",
    "plt.legend(['train', 'test'])\n",
    "plt.show()"
   ]
  },
  {
   "cell_type": "code",
   "execution_count": null,
   "metadata": {},
   "outputs": [],
   "source": []
  }
 ],
 "metadata": {
  "kernelspec": {
   "display_name": "Python 3",
   "language": "python",
   "name": "python3"
  },
  "language_info": {
   "codemirror_mode": {
    "name": "ipython",
    "version": 3
   },
   "file_extension": ".py",
   "mimetype": "text/x-python",
   "name": "python",
   "nbconvert_exporter": "python",
   "pygments_lexer": "ipython3",
   "version": "3.9.7"
  }
 },
 "nbformat": 4,
 "nbformat_minor": 4
}
